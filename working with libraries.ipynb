{
  "nbformat": 4,
  "nbformat_minor": 0,
  "metadata": {
    "colab": {
      "provenance": [],
      "collapsed_sections": [],
      "authorship_tag": "ABX9TyN4nHBFqBVYHWCFu8tokjBz",
      "include_colab_link": true
    },
    "kernelspec": {
      "name": "python3",
      "display_name": "Python 3"
    },
    "language_info": {
      "name": "python"
    }
  },
  "cells": [
    {
      "cell_type": "markdown",
      "metadata": {
        "id": "view-in-github",
        "colab_type": "text"
      },
      "source": [
        "<a href=\"https://colab.research.google.com/github/kisomose/pythonBootCamp/blob/main/working%20with%20libraries.ipynb\" target=\"_parent\"><img src=\"https://colab.research.google.com/assets/colab-badge.svg\" alt=\"Open In Colab\"/></a>"
      ]
    },
    {
      "cell_type": "markdown",
      "source": [
        "Python Modules & libraries"
      ],
      "metadata": {
        "id": "vy5sPp7qXtaB"
      }
    },
    {
      "cell_type": "markdown",
      "source": [
        "acessing one py program from another py"
      ],
      "metadata": {
        "id": "z8NkrObpX7nS"
      }
    },
    {
      "cell_type": "code",
      "source": [
        "import main\n",
        "main.welcome()\n",
        "x = main.a\n",
        "y = main.b\n",
        "\n",
        "print(x+y)"
      ],
      "metadata": {
        "colab": {
          "base_uri": "https://localhost:8080/"
        },
        "id": "BiUxV2rdXyWk",
        "outputId": "6aec44a0-40d8-481e-ceba-d30e21723343"
      },
      "execution_count": null,
      "outputs": [
        {
          "output_type": "stream",
          "name": "stdout",
          "text": [
            "Hello Paie! welcome to my life\n",
            "150\n"
          ]
        }
      ]
    },
    {
      "cell_type": "markdown",
      "source": [
        "accessing a py file from another py program present in nother folder"
      ],
      "metadata": {
        "id": "4QK0fbAAa37X"
      }
    },
    {
      "cell_type": "code",
      "source": [
        "from sample_data.demo import main\n",
        "main.welcome()\n",
        "x = main.a\n",
        "y = main.b\n",
        "\n",
        "print(x+y)"
      ],
      "metadata": {
        "colab": {
          "base_uri": "https://localhost:8080/"
        },
        "id": "nWR5qhO2bNia",
        "outputId": "f52c0e57-a476-4a9a-dc66-54e341538d01"
      },
      "execution_count": null,
      "outputs": [
        {
          "output_type": "stream",
          "name": "stdout",
          "text": [
            "Hello Paie! welcome to my life\n",
            "150\n"
          ]
        }
      ]
    },
    {
      "cell_type": "markdown",
      "source": [
        "try except Finally"
      ],
      "metadata": {
        "id": "iZeStsJEboCm"
      }
    },
    {
      "cell_type": "markdown",
      "source": [
        "Base Exception Error"
      ],
      "metadata": {
        "id": "ElbceDWUbsgk"
      }
    },
    {
      "cell_type": "code",
      "source": [
        "BaseException"
      ],
      "metadata": {
        "colab": {
          "base_uri": "https://localhost:8080/"
        },
        "id": "gV-yd1LSbwZq",
        "outputId": "64f78791-bf3b-4197-e06a-e856461731fa"
      },
      "execution_count": null,
      "outputs": [
        {
          "output_type": "execute_result",
          "data": {
            "text/plain": [
              "BaseException"
            ]
          },
          "metadata": {},
          "execution_count": 5
        }
      ]
    },
    {
      "cell_type": "code",
      "source": [
        "for i in range(3,-3,-1):\n",
        "  try:\n",
        "    print(1.0/i)\n",
        "  except ZeroDivisionError:\n",
        "    print('Your are trying to divide by zero')"
      ],
      "metadata": {
        "colab": {
          "base_uri": "https://localhost:8080/"
        },
        "id": "1CNiZ0wqcXkb",
        "outputId": "85d09ff7-163d-4035-95d5-fa96da2a8070"
      },
      "execution_count": null,
      "outputs": [
        {
          "output_type": "stream",
          "name": "stdout",
          "text": [
            "0.3333333333333333\n",
            "0.5\n",
            "1.0\n",
            "Your are trying to divide by zero\n",
            "-1.0\n",
            "-0.5\n"
          ]
        }
      ]
    },
    {
      "cell_type": "code",
      "source": [
        "for i in range(3,-3,-1):\n",
        "  try:\n",
        "    print(1.0/i)\n",
        "  except ZeroDivisionError as er:\n",
        "    print('Your are trying to divide by zero',str(er.args[0]))"
      ],
      "metadata": {
        "colab": {
          "base_uri": "https://localhost:8080/"
        },
        "id": "IHpHHHqZdwxl",
        "outputId": "6d08c004-15c2-4ccb-f25d-b1ea4c93efb7"
      },
      "execution_count": null,
      "outputs": [
        {
          "output_type": "stream",
          "name": "stdout",
          "text": [
            "0.3333333333333333\n",
            "0.5\n",
            "1.0\n",
            "Your are trying to divide by zero float division by zero\n",
            "-1.0\n",
            "-0.5\n"
          ]
        }
      ]
    },
    {
      "cell_type": "code",
      "source": [
        "def check():\n",
        "  while True:\n",
        "    try:\n",
        "      a = int(input('please enter your number: '))\n",
        "      b = int(input('please enter your lucky number now: '))\n",
        "    except:\n",
        "      print('You did enter a number')\n",
        "      continue\n",
        "    else:\n",
        "      print('Yes its a Number')\n",
        "      break\n",
        "    finally:\n",
        "      print('Excution Successfull')\n",
        "      print (a+b)"
      ],
      "metadata": {
        "id": "CVPzx4iiN33s"
      },
      "execution_count": null,
      "outputs": []
    },
    {
      "cell_type": "markdown",
      "source": [
        "importing labraries"
      ],
      "metadata": {
        "id": "3kr_y6kOPU4p"
      }
    },
    {
      "cell_type": "code",
      "source": [
        "import math"
      ],
      "metadata": {
        "id": "Ew2LNpPuPXh4"
      },
      "execution_count": null,
      "outputs": []
    },
    {
      "cell_type": "markdown",
      "source": [
        "installing a labrary"
      ],
      "metadata": {
        "id": "p3RbTJoCPlXB"
      }
    },
    {
      "cell_type": "code",
      "source": [
        "!pip install imutils #pip install librayName"
      ],
      "metadata": {
        "colab": {
          "base_uri": "https://localhost:8080/"
        },
        "id": "jwZlqyDrPj10",
        "outputId": "da9dff14-7941-465d-9a45-261a5010f2a6"
      },
      "execution_count": null,
      "outputs": [
        {
          "output_type": "stream",
          "name": "stdout",
          "text": [
            "Looking in indexes: https://pypi.org/simple, https://us-python.pkg.dev/colab-wheels/public/simple/\n",
            "Requirement already satisfied: imutils in /usr/local/lib/python3.7/dist-packages (0.5.4)\n"
          ]
        }
      ]
    },
    {
      "cell_type": "markdown",
      "source": [
        "uninstalling libary"
      ],
      "metadata": {
        "id": "ytVDDuoiPugG"
      }
    },
    {
      "cell_type": "code",
      "source": [
        "!pip uninstall imutils#pip uninstall library name"
      ],
      "metadata": {
        "colab": {
          "base_uri": "https://localhost:8080/"
        },
        "id": "3mr4xuHvPNil",
        "outputId": "5d1a5921-94fb-40a8-a026-b21964632bf5"
      },
      "execution_count": null,
      "outputs": [
        {
          "output_type": "stream",
          "name": "stdout",
          "text": [
            "ERROR: unknown command \"unistall\" - maybe you meant \"uninstall\"\n"
          ]
        }
      ]
    },
    {
      "cell_type": "markdown",
      "source": [
        "installing library based on Version"
      ],
      "metadata": {
        "id": "e8zacgskQHNc"
      }
    },
    {
      "cell_type": "code",
      "source": [
        "#!pip install libaryName==version\n"
      ],
      "metadata": {
        "id": "Crbwx-MNQK_Y"
      },
      "execution_count": null,
      "outputs": []
    },
    {
      "cell_type": "markdown",
      "source": [
        "checking library name"
      ],
      "metadata": {
        "id": "itc4qNeXQh1h"
      }
    },
    {
      "cell_type": "code",
      "source": [
        "import imutils\n",
        "imutils.__version__"
      ],
      "metadata": {
        "colab": {
          "base_uri": "https://localhost:8080/",
          "height": 35
        },
        "id": "JDQI5wt1Qly1",
        "outputId": "dca0d46e-89e8-4eaf-fe35-e83323f96b85"
      },
      "execution_count": null,
      "outputs": [
        {
          "output_type": "execute_result",
          "data": {
            "text/plain": [
              "'0.5.4'"
            ],
            "application/vnd.google.colaboratory.intrinsic+json": {
              "type": "string"
            }
          },
          "metadata": {},
          "execution_count": 7
        }
      ]
    },
    {
      "cell_type": "markdown",
      "source": [
        "playing with library"
      ],
      "metadata": {
        "id": "1Zg_bhlEQyMo"
      }
    },
    {
      "cell_type": "markdown",
      "source": [
        "import math\n",
        "print(dir(math)) #getting to know what the library does\n"
      ],
      "metadata": {
        "id": "HPV4s0KCQ07T"
      }
    },
    {
      "cell_type": "code",
      "source": [
        "import math as mt\n",
        "print(mt.pi)"
      ],
      "metadata": {
        "colab": {
          "base_uri": "https://localhost:8080/"
        },
        "id": "RKL8GRSJRQ7a",
        "outputId": "559608c1-1a8e-436e-888a-f8143462f356"
      },
      "execution_count": null,
      "outputs": [
        {
          "output_type": "stream",
          "name": "stdout",
          "text": [
            "3.141592653589793\n"
          ]
        }
      ]
    },
    {
      "cell_type": "markdown",
      "source": [
        "reduce"
      ],
      "metadata": {
        "id": "obhRDrXARcHz"
      }
    },
    {
      "cell_type": "code",
      "source": [
        "from functools import reduce\n",
        "\n",
        "lst = [47,11,13]\n",
        "reduce(lambda x,y: x+y,lst) #lambda for reducing the len of a func"
      ],
      "metadata": {
        "colab": {
          "base_uri": "https://localhost:8080/"
        },
        "id": "14tlA8lZRfxr",
        "outputId": "8435e8ed-9f26-4a51-c307-7b25badb40e1"
      },
      "execution_count": null,
      "outputs": [
        {
          "output_type": "execute_result",
          "data": {
            "text/plain": [
              "71"
            ]
          },
          "metadata": {},
          "execution_count": 12
        }
      ]
    },
    {
      "cell_type": "markdown",
      "source": [
        "Ipython"
      ],
      "metadata": {
        "id": "XE5o-7jXR-48"
      }
    },
    {
      "cell_type": "markdown",
      "source": [
        "filter"
      ],
      "metadata": {
        "id": "VaTRgY0OTYtL"
      }
    },
    {
      "cell_type": "code",
      "source": [
        "def check(num):\n",
        "  if num%2 ==0:\n",
        "    return True\n",
        "  \n",
        "lst = range(20,100,1)\n",
        "list (filter(check,lst))"
      ],
      "metadata": {
        "colab": {
          "base_uri": "https://localhost:8080/"
        },
        "id": "1yWQKoIyTFRA",
        "outputId": "e8aa6ccd-5312-43fc-d792-c411ad1e4581"
      },
      "execution_count": null,
      "outputs": [
        {
          "output_type": "execute_result",
          "data": {
            "text/plain": [
              "[20,\n",
              " 22,\n",
              " 24,\n",
              " 26,\n",
              " 28,\n",
              " 30,\n",
              " 32,\n",
              " 34,\n",
              " 36,\n",
              " 38,\n",
              " 40,\n",
              " 42,\n",
              " 44,\n",
              " 46,\n",
              " 48,\n",
              " 50,\n",
              " 52,\n",
              " 54,\n",
              " 56,\n",
              " 58,\n",
              " 60,\n",
              " 62,\n",
              " 64,\n",
              " 66,\n",
              " 68,\n",
              " 70,\n",
              " 72,\n",
              " 74,\n",
              " 76,\n",
              " 78,\n",
              " 80,\n",
              " 82,\n",
              " 84,\n",
              " 86,\n",
              " 88,\n",
              " 90,\n",
              " 92,\n",
              " 94,\n",
              " 96,\n",
              " 98]"
            ]
          },
          "metadata": {},
          "execution_count": 18
        }
      ]
    },
    {
      "cell_type": "markdown",
      "source": [
        "Counter"
      ],
      "metadata": {
        "id": "zthwZ2ktXPl0"
      }
    },
    {
      "cell_type": "code",
      "source": [
        "from collections import Counter\n",
        "print(Counter(input('enter ur words and unbers here:')))\n"
      ],
      "metadata": {
        "colab": {
          "base_uri": "https://localhost:8080/"
        },
        "id": "0_ImGk6bVjoq",
        "outputId": "8025040b-5179-4b17-d9a0-c9ba5e088e7f"
      },
      "execution_count": null,
      "outputs": [
        {
          "output_type": "stream",
          "name": "stdout",
          "text": [
            "enter ur words and unbers here:jnwijej87498398jhdjbhbhjhj\n",
            "Counter({'j': 7, 'h': 4, '8': 3, '9': 2, 'b': 2, 'n': 1, 'w': 1, 'i': 1, 'e': 1, '7': 1, '4': 1, '3': 1, 'd': 1})\n"
          ]
        }
      ]
    },
    {
      "cell_type": "markdown",
      "source": [
        "regular Expression"
      ],
      "metadata": {
        "id": "058BX_3DXS3C"
      }
    },
    {
      "cell_type": "code",
      "source": [
        "import re #for recognizing certain patterns \n",
        "patt = r\"\\d{2}-\\d{2}-\\d{4}\"\n",
        "message = \"his birthday is 16-11-2018\"\n",
        "re.findall(patt,message)"
      ],
      "metadata": {
        "colab": {
          "base_uri": "https://localhost:8080/"
        },
        "id": "WDGLZBj0XSdY",
        "outputId": "ab94ff1e-0ceb-4f79-8f12-c22d14f81d55"
      },
      "execution_count": null,
      "outputs": [
        {
          "output_type": "execute_result",
          "data": {
            "text/plain": [
              "['16-11-2018']"
            ]
          },
          "metadata": {},
          "execution_count": 23
        }
      ]
    },
    {
      "cell_type": "markdown",
      "source": [
        "working with files"
      ],
      "metadata": {
        "id": "F8Y0QA-SYV1H"
      }
    },
    {
      "cell_type": "code",
      "source": [
        "f = open('welcome.txt', 'r') #r -read\n",
        "print(f.read())\n",
        "f.close()"
      ],
      "metadata": {
        "colab": {
          "base_uri": "https://localhost:8080/"
        },
        "id": "9EFiDhASIY_x",
        "outputId": "292fc6c2-11c3-48a5-ecf3-256087224b6c"
      },
      "execution_count": 1,
      "outputs": [
        {
          "output_type": "stream",
          "name": "stdout",
          "text": [
            "hello all\n",
            "welcome to puthon BootCap\n",
            "ypu Great\n"
          ]
        }
      ]
    },
    {
      "cell_type": "code",
      "source": [
        "f = open('welcome.txt', 'r') #r -read\n",
        "print(f.read(15))#print off only 15 charators\n",
        "f.close()"
      ],
      "metadata": {
        "id": "6miJRDuiYZ2W",
        "colab": {
          "base_uri": "https://localhost:8080/"
        },
        "outputId": "b9ad9cd9-9ed0-4a68-d35e-6571060944f7"
      },
      "execution_count": 3,
      "outputs": [
        {
          "output_type": "stream",
          "name": "stdout",
          "text": [
            "hello all\n",
            "welco\n"
          ]
        }
      ]
    },
    {
      "cell_type": "code",
      "source": [
        "f = open('welcome.txt', 'r') #r -read\n",
        "for x in f:\n",
        "  print(x)\n",
        "#used in the natual language processing"
      ],
      "metadata": {
        "colab": {
          "base_uri": "https://localhost:8080/"
        },
        "id": "Nh0LjcRxJIuK",
        "outputId": "187665fa-c962-496a-abea-753a291dcdfb"
      },
      "execution_count": 5,
      "outputs": [
        {
          "output_type": "stream",
          "name": "stdout",
          "text": [
            "hello all\n",
            "\n",
            "welcome to puthon BootCap\n",
            "\n",
            "ypu Great\n"
          ]
        }
      ]
    },
    {
      "cell_type": "code",
      "source": [
        "f.close()"
      ],
      "metadata": {
        "id": "EsKlbB0sM01u"
      },
      "execution_count": 11,
      "outputs": []
    },
    {
      "cell_type": "markdown",
      "source": [
        "file handling using Pandas"
      ],
      "metadata": {
        "id": "L7eM0BDIJfp5"
      }
    },
    {
      "cell_type": "code",
      "source": [
        "import pandas as pd\n",
        "data = pd.read_excel('Sales-data.xlsx')\n",
        "print(data.to_string())"
      ],
      "metadata": {
        "colab": {
          "base_uri": "https://localhost:8080/"
        },
        "id": "uR014BwiJDIk",
        "outputId": "ffc36195-76a8-4217-b849-94dd728c9a6e"
      },
      "execution_count": 20,
      "outputs": [
        {
          "output_type": "stream",
          "name": "stdout",
          "text": [
            "    OrderDate   Region       Rep     Item  Units  Unit Cost    Total\n",
            "0  2019-01-06     East     Jones   Pencil     95       1.99   189.05\n",
            "1  2019-01-23  Central    Kivell   Binder     50      19.99   999.50\n",
            "2  2019-02-09  Central   Jardine   Pencil     36       4.99   179.64\n",
            "3  2019-02-26  Central      Gill      Pen     27      19.99   539.73\n",
            "4  2019-03-15     West   Sorvino   Pencil     56       2.99   167.44\n",
            "5  2019-04-01     East     Jones   Binder     60       4.99   299.40\n",
            "6  2019-04-18  Central   Andrews   Pencil     75       1.99   149.25\n",
            "7  2019-05-05  Central   Jardine   Pencil     90       4.99   449.10\n",
            "8  2019-05-22     West  Thompson   Pencil     32       1.99    63.68\n",
            "9  2019-06-08     East     Jones   Binder     60       8.99   539.40\n",
            "10 2019-06-25  Central    Morgan   Pencil     90       4.99   449.10\n",
            "11 2019-07-12     East    Howard   Binder     29       1.99    57.71\n",
            "12 2019-07-29     East    Parent   Binder     81      19.99  1619.19\n",
            "13 2019-08-15     East     Jones   Pencil     35       4.99   174.65\n",
            "14 2019-09-01  Central     Smith     Desk      2     125.00   250.00\n",
            "15 2019-09-18     East     Jones  Pen Set     16      15.99   255.84\n",
            "16 2019-10-05  Central    Morgan   Binder     28       8.99   251.72\n",
            "17 2019-10-22     East     Jones      Pen     64       8.99   575.36\n",
            "18 2019-11-08     East    Parent      Pen     15      19.99   299.85\n",
            "19 2019-11-25  Central    Kivell  Pen Set     96       4.99   479.04\n",
            "20 2019-12-12  Central     Smith   Pencil     67       1.29    86.43\n",
            "21 2019-12-29     East    Parent  Pen Set     74      15.99  1183.26\n",
            "22 2020-01-15  Central      Gill   Binder     46       8.99   413.54\n",
            "23 2020-02-01  Central     Smith   Binder     87      15.00  1305.00\n",
            "24 2020-02-18     East     Jones   Binder      4       4.99    19.96\n",
            "25 2020-03-07     West   Sorvino   Binder      7      19.99   139.93\n",
            "26 2020-03-24  Central   Jardine  Pen Set     50       4.99   249.50\n",
            "27 2020-04-10  Central   Andrews   Pencil     66       1.99   131.34\n",
            "28 2020-04-27     East    Howard      Pen     96       4.99   479.04\n",
            "29 2020-05-14  Central      Gill   Pencil     53       1.29    68.37\n",
            "30 2020-05-31  Central      Gill   Binder     80       8.99   719.20\n",
            "31 2020-06-17  Central    Kivell     Desk      5     125.00   625.00\n",
            "32 2020-07-04     East     Jones  Pen Set     62       4.99   309.38\n",
            "33 2020-07-21  Central    Morgan  Pen Set     55      12.49   686.95\n",
            "34 2020-08-07  Central    Kivell  Pen Set     42      23.95  1005.90\n",
            "35 2020-08-24     West   Sorvino     Desk      3     275.00   825.00\n",
            "36 2020-09-10  Central      Gill   Pencil      7       1.29     9.03\n",
            "37 2020-09-27     West   Sorvino      Pen     76       1.99   151.24\n",
            "38 2020-10-14     West  Thompson   Binder     57      19.99  1139.43\n",
            "39 2020-10-31  Central   Andrews   Pencil     14       1.29    18.06\n",
            "40 2020-11-17  Central   Jardine   Binder     11       4.99    54.89\n",
            "41 2020-12-04  Central   Jardine   Binder     94      19.99  1879.06\n",
            "42 2020-12-21  Central   Andrews   Binder     28       4.99   139.72\n"
          ]
        }
      ]
    },
    {
      "cell_type": "code",
      "source": [
        "print(data.shape)#number of rows and columns"
      ],
      "metadata": {
        "colab": {
          "base_uri": "https://localhost:8080/"
        },
        "id": "4-WgfYNHRBQz",
        "outputId": "302e2c8f-24b7-48ac-fc9f-014ff11a8ee9"
      },
      "execution_count": 21,
      "outputs": [
        {
          "output_type": "stream",
          "name": "stdout",
          "text": [
            "(43, 7)\n"
          ]
        }
      ]
    },
    {
      "cell_type": "markdown",
      "source": [],
      "metadata": {
        "id": "-DaeMULhRH0f"
      }
    },
    {
      "cell_type": "code",
      "source": [
        "print(data.describe())#complete count of the data"
      ],
      "metadata": {
        "colab": {
          "base_uri": "https://localhost:8080/"
        },
        "id": "uslfsIa-Rvep",
        "outputId": "d71e8002-ba16-4adf-d9ae-1e8233f330a7"
      },
      "execution_count": 27,
      "outputs": [
        {
          "output_type": "stream",
          "name": "stdout",
          "text": [
            "           Units   Unit Cost        Total\n",
            "count  43.000000   43.000000    43.000000\n",
            "mean   49.325581   20.308605   456.462326\n",
            "std    30.078248   47.345118   447.022104\n",
            "min     2.000000    1.290000     9.030000\n",
            "25%    27.500000    3.990000   144.590000\n",
            "50%    53.000000    4.990000   299.400000\n",
            "75%    74.500000   17.990000   600.180000\n",
            "max    96.000000  275.000000  1879.060000\n"
          ]
        }
      ]
    },
    {
      "cell_type": "code",
      "source": [
        "print(data.head(5))#give u the 5 data clomn names"
      ],
      "metadata": {
        "colab": {
          "base_uri": "https://localhost:8080/"
        },
        "id": "BHjm5sVHRRl-",
        "outputId": "fe684451-323f-4768-82d4-adabdc3718b4"
      },
      "execution_count": 26,
      "outputs": [
        {
          "output_type": "stream",
          "name": "stdout",
          "text": [
            "   OrderDate   Region      Rep    Item  Units  Unit Cost   Total\n",
            "0 2019-01-06     East    Jones  Pencil     95       1.99  189.05\n",
            "1 2019-01-23  Central   Kivell  Binder     50      19.99  999.50\n",
            "2 2019-02-09  Central  Jardine  Pencil     36       4.99  179.64\n",
            "3 2019-02-26  Central     Gill     Pen     27      19.99  539.73\n",
            "4 2019-03-15     West  Sorvino  Pencil     56       2.99  167.44\n"
          ]
        }
      ]
    },
    {
      "cell_type": "markdown",
      "source": [
        "working with Directories"
      ],
      "metadata": {
        "id": "raLf9wGsR2C_"
      }
    },
    {
      "cell_type": "code",
      "source": [
        "import os #importing dir for your data folders\n",
        "print(os.getcwd())\n",
        "print(os.listdir)\n",
        "os.mkdir(\"PATIENCE\")"
      ],
      "metadata": {
        "colab": {
          "base_uri": "https://localhost:8080/",
          "height": 235
        },
        "id": "oDbZ3j3kR0xE",
        "outputId": "113c6a29-8269-44ca-c9b8-0f2c7e800355"
      },
      "execution_count": 32,
      "outputs": [
        {
          "output_type": "stream",
          "name": "stdout",
          "text": [
            "/content\n",
            "<built-in function listdir>\n"
          ]
        },
        {
          "output_type": "error",
          "ename": "FileExistsError",
          "evalue": "ignored",
          "traceback": [
            "\u001b[0;31m---------------------------------------------------------------------------\u001b[0m",
            "\u001b[0;31mFileExistsError\u001b[0m                           Traceback (most recent call last)",
            "\u001b[0;32m<ipython-input-32-c610234e79e1>\u001b[0m in \u001b[0;36m<module>\u001b[0;34m\u001b[0m\n\u001b[1;32m      2\u001b[0m \u001b[0mprint\u001b[0m\u001b[0;34m(\u001b[0m\u001b[0mos\u001b[0m\u001b[0;34m.\u001b[0m\u001b[0mgetcwd\u001b[0m\u001b[0;34m(\u001b[0m\u001b[0;34m)\u001b[0m\u001b[0;34m)\u001b[0m\u001b[0;34m\u001b[0m\u001b[0;34m\u001b[0m\u001b[0m\n\u001b[1;32m      3\u001b[0m \u001b[0mprint\u001b[0m\u001b[0;34m(\u001b[0m\u001b[0mos\u001b[0m\u001b[0;34m.\u001b[0m\u001b[0mlistdir\u001b[0m\u001b[0;34m)\u001b[0m\u001b[0;34m\u001b[0m\u001b[0;34m\u001b[0m\u001b[0m\n\u001b[0;32m----> 4\u001b[0;31m \u001b[0mos\u001b[0m\u001b[0;34m.\u001b[0m\u001b[0mmkdir\u001b[0m\u001b[0;34m(\u001b[0m\u001b[0;34m\"PATIENCE\"\u001b[0m\u001b[0;34m)\u001b[0m\u001b[0;34m\u001b[0m\u001b[0;34m\u001b[0m\u001b[0m\n\u001b[0m",
            "\u001b[0;31mFileExistsError\u001b[0m: [Errno 17] File exists: 'PATIENCE'"
          ]
        }
      ]
    },
    {
      "cell_type": "code",
      "source": [
        "import shutil#FOR MOVING FILES TO OTHER DIR\n",
        "shutil.move('welcome.txt','/content/PATIENCE')"
      ],
      "metadata": {
        "colab": {
          "base_uri": "https://localhost:8080/",
          "height": 35
        },
        "id": "40xjYFxNUg5l",
        "outputId": "e956a8d8-c230-4378-f538-6a5c7b6de16e"
      },
      "execution_count": 34,
      "outputs": [
        {
          "output_type": "execute_result",
          "data": {
            "text/plain": [
              "'/content/PATIENCE/welcome.txt'"
            ],
            "application/vnd.google.colaboratory.intrinsic+json": {
              "type": "string"
            }
          },
          "metadata": {},
          "execution_count": 34
        }
      ]
    },
    {
      "cell_type": "code",
      "source": [
        "os.mkdir('hseofjd')"
      ],
      "metadata": {
        "id": "i43nJW8TU7oO"
      },
      "execution_count": 37,
      "outputs": []
    },
    {
      "cell_type": "code",
      "source": [
        "import send2trash\n",
        "os.listdir()\n",
        "send2trash.send2trash('hseofjd')"
      ],
      "metadata": {
        "id": "awJtCsxXVH0J"
      },
      "execution_count": 39,
      "outputs": []
    },
    {
      "cell_type": "code",
      "source": [
        "os.listdir()"
      ],
      "metadata": {
        "colab": {
          "base_uri": "https://localhost:8080/"
        },
        "id": "B9LD5apGVatD",
        "outputId": "ebe20aec-bbcb-4b70-9ea9-f30139dba0f6"
      },
      "execution_count": 40,
      "outputs": [
        {
          "output_type": "execute_result",
          "data": {
            "text/plain": [
              "['.config', 'PATIENCE', '.ipynb_checkpoints', 'Sales-data.xlsx', 'sample_data']"
            ]
          },
          "metadata": {},
          "execution_count": 40
        }
      ]
    },
    {
      "cell_type": "code",
      "source": [
        "import time \n",
        "print(time.time())"
      ],
      "metadata": {
        "colab": {
          "base_uri": "https://localhost:8080/"
        },
        "id": "BZFyXIHZVhVz",
        "outputId": "df186402-15ad-4016-c487-2db70fe877ef"
      },
      "execution_count": 46,
      "outputs": [
        {
          "output_type": "stream",
          "name": "stdout",
          "text": [
            "1664959850.1564512\n"
          ]
        }
      ]
    },
    {
      "cell_type": "code",
      "source": [
        "print(time.gmtime())"
      ],
      "metadata": {
        "colab": {
          "base_uri": "https://localhost:8080/"
        },
        "id": "Bi1XKQpeVzlR",
        "outputId": "f19908e5-0b4e-460c-9e41-be9d5d2790c0"
      },
      "execution_count": 47,
      "outputs": [
        {
          "output_type": "stream",
          "name": "stdout",
          "text": [
            "time.struct_time(tm_year=2022, tm_mon=10, tm_mday=5, tm_hour=8, tm_min=51, tm_sec=11, tm_wday=2, tm_yday=278, tm_isdst=0)\n"
          ]
        }
      ]
    },
    {
      "cell_type": "markdown",
      "source": [
        "time"
      ],
      "metadata": {
        "id": "JTxG3GE-YXGH"
      }
    },
    {
      "cell_type": "code",
      "source": [
        "print(time.ctime())"
      ],
      "metadata": {
        "colab": {
          "base_uri": "https://localhost:8080/"
        },
        "id": "_eXyqgH6V8xE",
        "outputId": "536310e4-6de9-4c25-b822-936b516337f6"
      },
      "execution_count": 48,
      "outputs": [
        {
          "output_type": "stream",
          "name": "stdout",
          "text": [
            "Wed Oct  5 08:51:43 2022\n"
          ]
        }
      ]
    },
    {
      "cell_type": "code",
      "source": [
        "startTime = time.time()\n",
        "i = 0\n",
        "while(i<5):\n",
        "  i+=1\n",
        "  print('.')\n",
        "  time.sleep(1)#delay 1 second\n",
        "stopTime =time.time()\n",
        "diff = stopTime - startTime\n",
        "diff"
      ],
      "metadata": {
        "colab": {
          "base_uri": "https://localhost:8080/"
        },
        "id": "XhUn_EB8WCN7",
        "outputId": "5a12759b-1147-4a1e-ad43-6f71143ae4bd"
      },
      "execution_count": 52,
      "outputs": [
        {
          "output_type": "stream",
          "name": "stdout",
          "text": [
            ".\n",
            ".\n",
            ".\n",
            ".\n",
            ".\n"
          ]
        },
        {
          "output_type": "execute_result",
          "data": {
            "text/plain": [
              "5.008936643600464"
            ]
          },
          "metadata": {},
          "execution_count": 52
        }
      ]
    },
    {
      "cell_type": "markdown",
      "source": [
        "date and time"
      ],
      "metadata": {
        "id": "XMkX3oQWYSG4"
      }
    },
    {
      "cell_type": "code",
      "source": [
        "import datetime\n",
        "x= datetime.datetime.now()\n",
        "print(x)#designing an alarm or celebrating birthday or sending a mail"
      ],
      "metadata": {
        "colab": {
          "base_uri": "https://localhost:8080/"
        },
        "id": "3_9bo1rrW9Hb",
        "outputId": "a7a4c609-49ca-4992-e52b-dc33a65f7b3a"
      },
      "execution_count": 54,
      "outputs": [
        {
          "output_type": "stream",
          "name": "stdout",
          "text": [
            "2022-10-05 08:57:05.236449\n"
          ]
        }
      ]
    },
    {
      "cell_type": "code",
      "source": [
        "x=datetime.datetime(2021,12,16,12,30,50)#(year,month,day,hr,min,sec,mircosec)\n",
        "print(x)"
      ],
      "metadata": {
        "colab": {
          "base_uri": "https://localhost:8080/"
        },
        "id": "THiELFVcXZ5m",
        "outputId": "6ebe0206-6b5d-4f93-be32-b366252f7f04"
      },
      "execution_count": 57,
      "outputs": [
        {
          "output_type": "stream",
          "name": "stdout",
          "text": [
            "2021-12-16 12:30:50\n"
          ]
        }
      ]
    },
    {
      "cell_type": "code",
      "source": [
        "a = datetime.datetime(2022,12,16)\n",
        "print(a.strftime(\"%a\"))#a greating AI and updating one in the day"
      ],
      "metadata": {
        "colab": {
          "base_uri": "https://localhost:8080/"
        },
        "id": "GDlj27U9YjQq",
        "outputId": "b122522b-db97-4797-80b8-89a55539a8e1"
      },
      "execution_count": 63,
      "outputs": [
        {
          "output_type": "stream",
          "name": "stdout",
          "text": [
            "Fri\n"
          ]
        }
      ]
    },
    {
      "cell_type": "markdown",
      "source": [
        "internet speed testing"
      ],
      "metadata": {
        "id": "g0_1bdqDaF_a"
      }
    },
    {
      "cell_type": "code",
      "source": [
        "!pip install speedtest-cli\n",
        "\n"
      ],
      "metadata": {
        "id": "5nbn_VV6aKJw",
        "colab": {
          "base_uri": "https://localhost:8080/"
        },
        "outputId": "b6bca015-72d5-46d4-f8d5-3a0b49531074"
      },
      "execution_count": 8,
      "outputs": [
        {
          "output_type": "stream",
          "name": "stdout",
          "text": [
            "Looking in indexes: https://pypi.org/simple, https://us-python.pkg.dev/colab-wheels/public/simple/\n",
            "Requirement already satisfied: speedtest-cli in /usr/local/lib/python3.7/dist-packages (2.1.3)\n"
          ]
        }
      ]
    },
    {
      "cell_type": "code",
      "source": [
        "!pip uninstall speedtest"
      ],
      "metadata": {
        "colab": {
          "base_uri": "https://localhost:8080/"
        },
        "id": "g_TCS0AckWrM",
        "outputId": "c0e03bdd-0127-42cd-8a8c-e68cd52b51e3"
      },
      "execution_count": 3,
      "outputs": [
        {
          "output_type": "stream",
          "name": "stdout",
          "text": [
            "Found existing installation: speedtest 0.0.1\n",
            "Uninstalling speedtest-0.0.1:\n",
            "  Would remove:\n",
            "    /usr/local/lib/python3.7/dist-packages/speedtest-0.0.1.dist-info/*\n",
            "    /usr/local/lib/python3.7/dist-packages/speedtest/*\n",
            "Proceed (y/n)? y\n",
            "  Successfully uninstalled speedtest-0.0.1\n"
          ]
        }
      ]
    },
    {
      "cell_type": "code",
      "source": [
        "import speedtest\n",
        "st = speedtest.Speedtest()\n",
        "option = int(input('''what speed do you want to test:\n",
        "1) Download\n",
        "2) upload\n",
        "3) ping\n",
        "  Your Choice: '''))\n",
        "\n",
        "if option ==1:\n",
        "  print(st.download())\n",
        "\n",
        "elif option ==2:\n",
        "  print(st.upload())\n",
        "elif option ==3:\n",
        "  servernames = []\n",
        "  st.get_servers(servernames)\n",
        "  print(st.results.ping)\n",
        "\n",
        "else:\n",
        "  print('Please enter the correct choice !')"
      ],
      "metadata": {
        "colab": {
          "base_uri": "https://localhost:8080/",
          "height": 235
        },
        "id": "aSJ_P06YgD2G",
        "outputId": "531ba844-8c67-4bb8-c910-93f6b4e36876"
      },
      "execution_count": 9,
      "outputs": [
        {
          "output_type": "error",
          "ename": "AttributeError",
          "evalue": "ignored",
          "traceback": [
            "\u001b[0;31m---------------------------------------------------------------------------\u001b[0m",
            "\u001b[0;31mAttributeError\u001b[0m                            Traceback (most recent call last)",
            "\u001b[0;32m<ipython-input-9-66703e3e2898>\u001b[0m in \u001b[0;36m<module>\u001b[0;34m\u001b[0m\n\u001b[1;32m      1\u001b[0m \u001b[0;32mimport\u001b[0m \u001b[0mspeedtest\u001b[0m\u001b[0;34m\u001b[0m\u001b[0;34m\u001b[0m\u001b[0m\n\u001b[0;32m----> 2\u001b[0;31m \u001b[0mst\u001b[0m \u001b[0;34m=\u001b[0m \u001b[0mspeedtest\u001b[0m\u001b[0;34m.\u001b[0m\u001b[0mSpeedtest\u001b[0m\u001b[0;34m(\u001b[0m\u001b[0;34m)\u001b[0m\u001b[0;34m\u001b[0m\u001b[0;34m\u001b[0m\u001b[0m\n\u001b[0m\u001b[1;32m      3\u001b[0m option = int(input('''what speed do you want to test:\n\u001b[1;32m      4\u001b[0m 1) Download\n\u001b[1;32m      5\u001b[0m 2) upload\n",
            "\u001b[0;31mAttributeError\u001b[0m: module 'speedtest' has no attribute 'Speedtest'"
          ]
        }
      ]
    }
  ]
}