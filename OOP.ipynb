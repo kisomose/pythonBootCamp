{
  "nbformat": 4,
  "nbformat_minor": 0,
  "metadata": {
    "colab": {
      "provenance": [],
      "authorship_tag": "ABX9TyNTbI2by94I2d3G+W5CiUET",
      "include_colab_link": true
    },
    "kernelspec": {
      "name": "python3",
      "display_name": "Python 3"
    },
    "language_info": {
      "name": "python"
    }
  },
  "cells": [
    {
      "cell_type": "markdown",
      "metadata": {
        "id": "view-in-github",
        "colab_type": "text"
      },
      "source": [
        "<a href=\"https://colab.research.google.com/github/kisomose/pythonBootCamp/blob/main/OOP.ipynb\" target=\"_parent\"><img src=\"https://colab.research.google.com/assets/colab-badge.svg\" alt=\"Open In Colab\"/></a>"
      ]
    },
    {
      "cell_type": "markdown",
      "source": [
        "class initialantion"
      ],
      "metadata": {
        "id": "FZfnsKZSBYYd"
      }
    },
    {
      "cell_type": "code",
      "execution_count": 1,
      "metadata": {
        "colab": {
          "base_uri": "https://localhost:8080/"
        },
        "id": "h1yK2Mn7_RwI",
        "outputId": "8a8a9087-bd63-49bd-c317-7cd85aad0c45"
      },
      "outputs": [
        {
          "output_type": "stream",
          "name": "stdout",
          "text": [
            "hello Patie\n",
            "<class '__main__.Student'>\n"
          ]
        }
      ],
      "source": [
        "class Student:\n",
        "    print(\"hello Patie\")\n",
        "x = Student()\n",
        "\n",
        "print(type(x))\n"
      ]
    },
    {
      "cell_type": "code",
      "source": [
        "class Student:\n",
        "  def func():\n",
        "    print(\"hello all welcome\")\n",
        "\n",
        "Student.func()"
      ],
      "metadata": {
        "colab": {
          "base_uri": "https://localhost:8080/"
        },
        "id": "aRuwCrmr_46O",
        "outputId": "4e8b851d-db41-4bbd-810f-3b195cfba7d7"
      },
      "execution_count": 5,
      "outputs": [
        {
          "output_type": "stream",
          "name": "stdout",
          "text": [
            "hello all welcome\n"
          ]
        }
      ]
    },
    {
      "cell_type": "code",
      "source": [
        "class Student:\n",
        "  def func(self):\n",
        "    print(\"hello patience\")\n",
        "\n",
        "x = Student()\n",
        "x.func()"
      ],
      "metadata": {
        "colab": {
          "base_uri": "https://localhost:8080/"
        },
        "id": "ZVI3MFitA3DF",
        "outputId": "65e5144b-8784-4b01-948f-844e24562c96"
      },
      "execution_count": 6,
      "outputs": [
        {
          "output_type": "stream",
          "name": "stdout",
          "text": [
            "hello patience\n"
          ]
        }
      ]
    },
    {
      "cell_type": "markdown",
      "source": [
        "calss object attribute - same for anyclass instance"
      ],
      "metadata": {
        "id": "_eLSQJTNBUnh"
      }
    },
    {
      "cell_type": "code",
      "source": [
        "class Student:\n",
        "  year= '2022'\n",
        "  def func(self):\n",
        "    print(\"Hello all welcome to PATO house\",self.year)\n",
        "\n",
        "x = Student()\n",
        "x.func()"
      ],
      "metadata": {
        "colab": {
          "base_uri": "https://localhost:8080/"
        },
        "id": "RZiNs3nyBmvt",
        "outputId": "972858b8-af38-466e-df2e-546f67903dea"
      },
      "execution_count": 11,
      "outputs": [
        {
          "output_type": "stream",
          "name": "stdout",
          "text": [
            "Hello all welcome to PATO house 2022\n"
          ]
        }
      ]
    },
    {
      "cell_type": "markdown",
      "source": [
        "attribute of an object (characteristics of an object) Attribute won't take any arugments"
      ],
      "metadata": {
        "id": "d70P1N0CCyJm"
      }
    },
    {
      "cell_type": "code",
      "source": [
        "class Student:\n",
        "  def __init__(self,name): #__inti__(method) to initialize attribute of an bject (Constructor)\n",
        "    self.name = name #self.name = attribute initialized\n",
        "# creating instance of Student class{object of certain class}\n",
        "patie = Student(name = 'Patie Pato')#name: argument\n",
        "print(patie.name)#accessing class attribute through object"
      ],
      "metadata": {
        "colab": {
          "base_uri": "https://localhost:8080/"
        },
        "id": "gib9OsCLCwTm",
        "outputId": "e9508963-0cb9-45a6-f3ef-da7301d459e6"
      },
      "execution_count": 13,
      "outputs": [
        {
          "output_type": "stream",
          "name": "stdout",
          "text": [
            "Patie Pato\n"
          ]
        }
      ]
    },
    {
      "cell_type": "code",
      "source": [
        "class Home:\n",
        "  def __init__(self,year,name):\n",
        "    self.year = year\n",
        "    self.name = name\n",
        "tonie = Home(year = \"Updating to 24\",name = 'Tonnie Pato')\n",
        "#love = Home(year='in love with Patie since 2021')\n",
        "print(tonie.year)\n",
        "print(tonie.name)\n",
        "#print(love.year)"
      ],
      "metadata": {
        "colab": {
          "base_uri": "https://localhost:8080/"
        },
        "id": "sFnMy9iFFr3u",
        "outputId": "c22260aa-d4d9-4986-f930-70a25dc39f3f"
      },
      "execution_count": 19,
      "outputs": [
        {
          "output_type": "stream",
          "name": "stdout",
          "text": [
            "Updating to 24\n",
            "Tonnie Pato\n"
          ]
        }
      ]
    },
    {
      "cell_type": "code",
      "source": [
        "class Student:\n",
        "  Total = 500\n",
        "\n",
        "  def __init__(self,marks):\n",
        "    self.marks = marks\n",
        "    print('Initialized........')\n",
        "\n",
        "  def findLoss(self):\n",
        "    return self.Total - self.marks\n",
        "\n",
        "  def findPercentage(self):\n",
        "    return self.marks/self.Total*100\n",
        "\n",
        "P = Student(marks=450)\n",
        "print('Total Marks: ',P.Total)\n",
        "print('Lossed Marks: ',P.findLoss())\n",
        "print('Percentage is: ',P.findPercentage())"
      ],
      "metadata": {
        "colab": {
          "base_uri": "https://localhost:8080/"
        },
        "id": "qDAo5wMfHQ8X",
        "outputId": "cb579ff4-356b-447f-e386-40dcb83d8dbe"
      },
      "execution_count": 29,
      "outputs": [
        {
          "output_type": "stream",
          "name": "stdout",
          "text": [
            "Initialized........\n",
            "Total Marks:  500\n",
            "Lossed Marks:  50\n",
            "Percentage is:  90.0\n"
          ]
        }
      ]
    }
  ]
}