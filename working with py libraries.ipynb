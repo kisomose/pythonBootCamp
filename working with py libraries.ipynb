{
  "nbformat": 4,
  "nbformat_minor": 0,
  "metadata": {
    "colab": {
      "provenance": [],
      "authorship_tag": "ABX9TyPdZIbE9QXusDzVaYR8XOGD",
      "include_colab_link": true
    },
    "kernelspec": {
      "name": "python3",
      "display_name": "Python 3"
    },
    "language_info": {
      "name": "python"
    }
  },
  "cells": [
    {
      "cell_type": "markdown",
      "metadata": {
        "id": "view-in-github",
        "colab_type": "text"
      },
      "source": [
        "<a href=\"https://colab.research.google.com/github/kisomose/pythonBootCamp/blob/main/working%20with%20py%20libraries.ipynb\" target=\"_parent\"><img src=\"https://colab.research.google.com/assets/colab-badge.svg\" alt=\"Open In Colab\"/></a>"
      ]
    },
    {
      "cell_type": "markdown",
      "source": [
        "Python Modules & libraries"
      ],
      "metadata": {
        "id": "vy5sPp7qXtaB"
      }
    },
    {
      "cell_type": "markdown",
      "source": [
        "acessing one py program from another py"
      ],
      "metadata": {
        "id": "z8NkrObpX7nS"
      }
    },
    {
      "cell_type": "code",
      "source": [
        "import main\n",
        "main.welcome()\n",
        "x = main.a\n",
        "y = main.b\n",
        "\n",
        "print(x+y)"
      ],
      "metadata": {
        "colab": {
          "base_uri": "https://localhost:8080/"
        },
        "id": "BiUxV2rdXyWk",
        "outputId": "6aec44a0-40d8-481e-ceba-d30e21723343"
      },
      "execution_count": 3,
      "outputs": [
        {
          "output_type": "stream",
          "name": "stdout",
          "text": [
            "Hello Paie! welcome to my life\n",
            "150\n"
          ]
        }
      ]
    },
    {
      "cell_type": "markdown",
      "source": [
        "accessing a py file from another py program present in nother folder"
      ],
      "metadata": {
        "id": "4QK0fbAAa37X"
      }
    },
    {
      "cell_type": "code",
      "source": [
        "from sample_data.demo import main\n",
        "main.welcome()\n",
        "x = main.a\n",
        "y = main.b\n",
        "\n",
        "print(x+y)"
      ],
      "metadata": {
        "colab": {
          "base_uri": "https://localhost:8080/"
        },
        "id": "nWR5qhO2bNia",
        "outputId": "f52c0e57-a476-4a9a-dc66-54e341538d01"
      },
      "execution_count": 4,
      "outputs": [
        {
          "output_type": "stream",
          "name": "stdout",
          "text": [
            "Hello Paie! welcome to my life\n",
            "150\n"
          ]
        }
      ]
    },
    {
      "cell_type": "markdown",
      "source": [
        "try except Finally"
      ],
      "metadata": {
        "id": "iZeStsJEboCm"
      }
    },
    {
      "cell_type": "markdown",
      "source": [
        "Base Exception Error"
      ],
      "metadata": {
        "id": "ElbceDWUbsgk"
      }
    },
    {
      "cell_type": "code",
      "source": [
        "BaseException"
      ],
      "metadata": {
        "colab": {
          "base_uri": "https://localhost:8080/"
        },
        "id": "gV-yd1LSbwZq",
        "outputId": "64f78791-bf3b-4197-e06a-e856461731fa"
      },
      "execution_count": 5,
      "outputs": [
        {
          "output_type": "execute_result",
          "data": {
            "text/plain": [
              "BaseException"
            ]
          },
          "metadata": {},
          "execution_count": 5
        }
      ]
    },
    {
      "cell_type": "code",
      "source": [
        "for i in range(3,-3,-1):\n",
        "  try:\n",
        "    print(1.0/i)\n",
        "  except ZeroDivisionError:\n",
        "    print('Your are trying to divide by zero')"
      ],
      "metadata": {
        "colab": {
          "base_uri": "https://localhost:8080/"
        },
        "id": "1CNiZ0wqcXkb",
        "outputId": "85d09ff7-163d-4035-95d5-fa96da2a8070"
      },
      "execution_count": 9,
      "outputs": [
        {
          "output_type": "stream",
          "name": "stdout",
          "text": [
            "0.3333333333333333\n",
            "0.5\n",
            "1.0\n",
            "Your are trying to divide by zero\n",
            "-1.0\n",
            "-0.5\n"
          ]
        }
      ]
    },
    {
      "cell_type": "code",
      "source": [
        "for i in range(3,-3,-1):\n",
        "  try:\n",
        "    print(1.0/i)\n",
        "  except ZeroDivisionError as er:\n",
        "    print('Your are trying to divide by zero',str(er.args[0]))"
      ],
      "metadata": {
        "colab": {
          "base_uri": "https://localhost:8080/"
        },
        "id": "IHpHHHqZdwxl",
        "outputId": "6d08c004-15c2-4ccb-f25d-b1ea4c93efb7"
      },
      "execution_count": 10,
      "outputs": [
        {
          "output_type": "stream",
          "name": "stdout",
          "text": [
            "0.3333333333333333\n",
            "0.5\n",
            "1.0\n",
            "Your are trying to divide by zero float division by zero\n",
            "-1.0\n",
            "-0.5\n"
          ]
        }
      ]
    },
    {
      "cell_type": "code",
      "source": [
        "def check():\n",
        "  while True:\n",
        "    try:\n",
        "      a = int(input('please enter your number: '))\n",
        "      b = int(input('please enter your lucky number now: '))\n",
        "    except:\n",
        "      print('You did enter a number')\n",
        "      continue\n",
        "    else:\n",
        "      print('Yes its a Number')\n",
        "      break\n",
        "    finally:\n",
        "      print('Excution Successfull')\n",
        "      print (a+b)"
      ],
      "metadata": {
        "id": "CVPzx4iiN33s"
      },
      "execution_count": 1,
      "outputs": []
    },
    {
      "cell_type": "markdown",
      "source": [
        "importing labraries"
      ],
      "metadata": {
        "id": "3kr_y6kOPU4p"
      }
    },
    {
      "cell_type": "code",
      "source": [
        "import math"
      ],
      "metadata": {
        "id": "Ew2LNpPuPXh4"
      },
      "execution_count": 3,
      "outputs": []
    },
    {
      "cell_type": "markdown",
      "source": [
        "installing a labrary"
      ],
      "metadata": {
        "id": "p3RbTJoCPlXB"
      }
    },
    {
      "cell_type": "code",
      "source": [
        "!pip install imutils #pip install librayName"
      ],
      "metadata": {
        "colab": {
          "base_uri": "https://localhost:8080/"
        },
        "id": "jwZlqyDrPj10",
        "outputId": "da9dff14-7941-465d-9a45-261a5010f2a6"
      },
      "execution_count": 4,
      "outputs": [
        {
          "output_type": "stream",
          "name": "stdout",
          "text": [
            "Looking in indexes: https://pypi.org/simple, https://us-python.pkg.dev/colab-wheels/public/simple/\n",
            "Requirement already satisfied: imutils in /usr/local/lib/python3.7/dist-packages (0.5.4)\n"
          ]
        }
      ]
    },
    {
      "cell_type": "markdown",
      "source": [
        "uninstalling libary"
      ],
      "metadata": {
        "id": "ytVDDuoiPugG"
      }
    },
    {
      "cell_type": "code",
      "source": [
        "!pip uninstall imutils#pip uninstall library name"
      ],
      "metadata": {
        "colab": {
          "base_uri": "https://localhost:8080/"
        },
        "id": "3mr4xuHvPNil",
        "outputId": "5d1a5921-94fb-40a8-a026-b21964632bf5"
      },
      "execution_count": 5,
      "outputs": [
        {
          "output_type": "stream",
          "name": "stdout",
          "text": [
            "ERROR: unknown command \"unistall\" - maybe you meant \"uninstall\"\n"
          ]
        }
      ]
    },
    {
      "cell_type": "markdown",
      "source": [
        "installing library based on Version"
      ],
      "metadata": {
        "id": "e8zacgskQHNc"
      }
    },
    {
      "cell_type": "code",
      "source": [
        "#!pip install libaryName==version\n"
      ],
      "metadata": {
        "id": "Crbwx-MNQK_Y"
      },
      "execution_count": null,
      "outputs": []
    },
    {
      "cell_type": "markdown",
      "source": [
        "checking library name"
      ],
      "metadata": {
        "id": "itc4qNeXQh1h"
      }
    },
    {
      "cell_type": "code",
      "source": [
        "import imutils\n",
        "imutils.__version__"
      ],
      "metadata": {
        "colab": {
          "base_uri": "https://localhost:8080/",
          "height": 35
        },
        "id": "JDQI5wt1Qly1",
        "outputId": "dca0d46e-89e8-4eaf-fe35-e83323f96b85"
      },
      "execution_count": 7,
      "outputs": [
        {
          "output_type": "execute_result",
          "data": {
            "text/plain": [
              "'0.5.4'"
            ],
            "application/vnd.google.colaboratory.intrinsic+json": {
              "type": "string"
            }
          },
          "metadata": {},
          "execution_count": 7
        }
      ]
    },
    {
      "cell_type": "markdown",
      "source": [
        "playing with library"
      ],
      "metadata": {
        "id": "1Zg_bhlEQyMo"
      }
    },
    {
      "cell_type": "markdown",
      "source": [
        "import math\n",
        "print(dir(math)) #getting to know what the library does\n"
      ],
      "metadata": {
        "id": "HPV4s0KCQ07T"
      }
    },
    {
      "cell_type": "code",
      "source": [
        "import math as mt\n",
        "print(mt.pi)"
      ],
      "metadata": {
        "colab": {
          "base_uri": "https://localhost:8080/"
        },
        "id": "RKL8GRSJRQ7a",
        "outputId": "559608c1-1a8e-436e-888a-f8143462f356"
      },
      "execution_count": 10,
      "outputs": [
        {
          "output_type": "stream",
          "name": "stdout",
          "text": [
            "3.141592653589793\n"
          ]
        }
      ]
    },
    {
      "cell_type": "markdown",
      "source": [
        "reduce"
      ],
      "metadata": {
        "id": "obhRDrXARcHz"
      }
    },
    {
      "cell_type": "code",
      "source": [
        "from functools import reduce\n",
        "\n",
        "lst = [47,11,13]\n",
        "reduce(lambda x,y: x+y,lst) #lambda for reducing the len of a func"
      ],
      "metadata": {
        "colab": {
          "base_uri": "https://localhost:8080/"
        },
        "id": "14tlA8lZRfxr",
        "outputId": "8435e8ed-9f26-4a51-c307-7b25badb40e1"
      },
      "execution_count": 12,
      "outputs": [
        {
          "output_type": "execute_result",
          "data": {
            "text/plain": [
              "71"
            ]
          },
          "metadata": {},
          "execution_count": 12
        }
      ]
    },
    {
      "cell_type": "markdown",
      "source": [
        "Ipython"
      ],
      "metadata": {
        "id": "XE5o-7jXR-48"
      }
    },
    {
      "cell_type": "markdown",
      "source": [
        "filter"
      ],
      "metadata": {
        "id": "VaTRgY0OTYtL"
      }
    },
    {
      "cell_type": "code",
      "source": [
        "def check(num):\n",
        "  if num%2 ==0:\n",
        "    return True\n",
        "  \n",
        "lst = range(20,100,1)\n",
        "list (filter(check,lst))"
      ],
      "metadata": {
        "colab": {
          "base_uri": "https://localhost:8080/"
        },
        "id": "1yWQKoIyTFRA",
        "outputId": "e8aa6ccd-5312-43fc-d792-c411ad1e4581"
      },
      "execution_count": 18,
      "outputs": [
        {
          "output_type": "execute_result",
          "data": {
            "text/plain": [
              "[20,\n",
              " 22,\n",
              " 24,\n",
              " 26,\n",
              " 28,\n",
              " 30,\n",
              " 32,\n",
              " 34,\n",
              " 36,\n",
              " 38,\n",
              " 40,\n",
              " 42,\n",
              " 44,\n",
              " 46,\n",
              " 48,\n",
              " 50,\n",
              " 52,\n",
              " 54,\n",
              " 56,\n",
              " 58,\n",
              " 60,\n",
              " 62,\n",
              " 64,\n",
              " 66,\n",
              " 68,\n",
              " 70,\n",
              " 72,\n",
              " 74,\n",
              " 76,\n",
              " 78,\n",
              " 80,\n",
              " 82,\n",
              " 84,\n",
              " 86,\n",
              " 88,\n",
              " 90,\n",
              " 92,\n",
              " 94,\n",
              " 96,\n",
              " 98]"
            ]
          },
          "metadata": {},
          "execution_count": 18
        }
      ]
    },
    {
      "cell_type": "markdown",
      "source": [
        "Counter"
      ],
      "metadata": {
        "id": "zthwZ2ktXPl0"
      }
    },
    {
      "cell_type": "code",
      "source": [
        "from collections import Counter\n",
        "print(Counter(input('enter ur words and unbers here:')))\n"
      ],
      "metadata": {
        "colab": {
          "base_uri": "https://localhost:8080/"
        },
        "id": "0_ImGk6bVjoq",
        "outputId": "8025040b-5179-4b17-d9a0-c9ba5e088e7f"
      },
      "execution_count": 20,
      "outputs": [
        {
          "output_type": "stream",
          "name": "stdout",
          "text": [
            "enter ur words and unbers here:jnwijej87498398jhdjbhbhjhj\n",
            "Counter({'j': 7, 'h': 4, '8': 3, '9': 2, 'b': 2, 'n': 1, 'w': 1, 'i': 1, 'e': 1, '7': 1, '4': 1, '3': 1, 'd': 1})\n"
          ]
        }
      ]
    },
    {
      "cell_type": "markdown",
      "source": [
        "regular Expression"
      ],
      "metadata": {
        "id": "058BX_3DXS3C"
      }
    },
    {
      "cell_type": "code",
      "source": [
        "import re #for recognizing certain patterns \n",
        "patt = r\"\\d{2}-\\d{2}-\\d{4}\"\n",
        "message = \"his birthday is 16-11-2018\"\n",
        "re.findall(patt,message)"
      ],
      "metadata": {
        "colab": {
          "base_uri": "https://localhost:8080/"
        },
        "id": "WDGLZBj0XSdY",
        "outputId": "ab94ff1e-0ceb-4f79-8f12-c22d14f81d55"
      },
      "execution_count": 23,
      "outputs": [
        {
          "output_type": "execute_result",
          "data": {
            "text/plain": [
              "['16-11-2018']"
            ]
          },
          "metadata": {},
          "execution_count": 23
        }
      ]
    },
    {
      "cell_type": "markdown",
      "source": [
        "working with files"
      ],
      "metadata": {
        "id": "F8Y0QA-SYV1H"
      }
    },
    {
      "cell_type": "code",
      "source": [],
      "metadata": {
        "id": "6miJRDuiYZ2W"
      },
      "execution_count": null,
      "outputs": []
    }
  ]
}