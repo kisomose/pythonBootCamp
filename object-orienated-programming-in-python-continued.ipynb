{
  "nbformat": 4,
  "nbformat_minor": 0,
  "metadata": {
    "colab": {
      "provenance": [],
      "authorship_tag": "ABX9TyOhcQc4gN7Cj0KuJXoRrl91",
      "include_colab_link": true
    },
    "kernelspec": {
      "name": "python3",
      "display_name": "Python 3"
    },
    "language_info": {
      "name": "python"
    }
  },
  "cells": [
    {
      "cell_type": "markdown",
      "metadata": {
        "id": "view-in-github",
        "colab_type": "text"
      },
      "source": [
        "<a href=\"https://colab.research.google.com/github/kisomose/pythonBootCamp/blob/main/object-orienated-programming-in-python-continued.ipynb\" target=\"_parent\"><img src=\"https://colab.research.google.com/assets/colab-badge.svg\" alt=\"Open In Colab\"/></a>"
      ]
    },
    {
      "cell_type": "markdown",
      "source": [
        "class initialantion"
      ],
      "metadata": {
        "id": "FZfnsKZSBYYd"
      }
    },
    {
      "cell_type": "code",
      "execution_count": null,
      "metadata": {
        "colab": {
          "base_uri": "https://localhost:8080/"
        },
        "id": "h1yK2Mn7_RwI",
        "outputId": "8a8a9087-bd63-49bd-c317-7cd85aad0c45"
      },
      "outputs": [
        {
          "output_type": "stream",
          "name": "stdout",
          "text": [
            "hello Patie\n",
            "<class '__main__.Student'>\n"
          ]
        }
      ],
      "source": [
        "class Student:\n",
        "    print(\"hello Patie\")\n",
        "x = Student()\n",
        "\n",
        "print(type(x))\n"
      ]
    },
    {
      "cell_type": "code",
      "source": [
        "class Student:\n",
        "  def func():\n",
        "    print(\"hello all welcome\")\n",
        "\n",
        "Student.func()"
      ],
      "metadata": {
        "colab": {
          "base_uri": "https://localhost:8080/"
        },
        "id": "aRuwCrmr_46O",
        "outputId": "4e8b851d-db41-4bbd-810f-3b195cfba7d7"
      },
      "execution_count": null,
      "outputs": [
        {
          "output_type": "stream",
          "name": "stdout",
          "text": [
            "hello all welcome\n"
          ]
        }
      ]
    },
    {
      "cell_type": "code",
      "source": [
        "class Student:\n",
        "  def func(self):\n",
        "    print(\"hello patience\")\n",
        "\n",
        "x = Student()\n",
        "x.func()"
      ],
      "metadata": {
        "colab": {
          "base_uri": "https://localhost:8080/"
        },
        "id": "ZVI3MFitA3DF",
        "outputId": "65e5144b-8784-4b01-948f-844e24562c96"
      },
      "execution_count": null,
      "outputs": [
        {
          "output_type": "stream",
          "name": "stdout",
          "text": [
            "hello patience\n"
          ]
        }
      ]
    },
    {
      "cell_type": "markdown",
      "source": [
        "calss object attribute - same for anyclass instance"
      ],
      "metadata": {
        "id": "_eLSQJTNBUnh"
      }
    },
    {
      "cell_type": "code",
      "source": [
        "class Student:\n",
        "  year= '2022'\n",
        "  def func(self):\n",
        "    print(\"Hello all welcome to PATO house\",self.year)\n",
        "\n",
        "x = Student()\n",
        "x.func()"
      ],
      "metadata": {
        "colab": {
          "base_uri": "https://localhost:8080/"
        },
        "id": "RZiNs3nyBmvt",
        "outputId": "972858b8-af38-466e-df2e-546f67903dea"
      },
      "execution_count": null,
      "outputs": [
        {
          "output_type": "stream",
          "name": "stdout",
          "text": [
            "Hello all welcome to PATO house 2022\n"
          ]
        }
      ]
    },
    {
      "cell_type": "markdown",
      "source": [
        "attribute of an object (characteristics of an object) Attribute won't take any arugments"
      ],
      "metadata": {
        "id": "d70P1N0CCyJm"
      }
    },
    {
      "cell_type": "code",
      "source": [
        "class Student:\n",
        "  def __init__(self,name): #__inti__(method) to initialize attribute of an bject (Constructor)\n",
        "    self.name = name #self.name = attribute initialized\n",
        "# creating instance of Student class{object of certain class}\n",
        "patie = Student(name = 'Patie Pato')#name: argument\n",
        "print(patie.name)#accessing class attribute through object"
      ],
      "metadata": {
        "colab": {
          "base_uri": "https://localhost:8080/"
        },
        "id": "gib9OsCLCwTm",
        "outputId": "e9508963-0cb9-45a6-f3ef-da7301d459e6"
      },
      "execution_count": null,
      "outputs": [
        {
          "output_type": "stream",
          "name": "stdout",
          "text": [
            "Patie Pato\n"
          ]
        }
      ]
    },
    {
      "cell_type": "code",
      "source": [
        "class Home:\n",
        "  def __init__(self,year,name):\n",
        "    self.year = year\n",
        "    self.name = name\n",
        "tonie = Home(year = \"Updating to 24\",name = 'Tonnie Pato')\n",
        "#love = Home(year='in love with Patie since 2021')\n",
        "print(tonie.year)\n",
        "print(tonie.name)\n",
        "#print(love.year)"
      ],
      "metadata": {
        "colab": {
          "base_uri": "https://localhost:8080/"
        },
        "id": "sFnMy9iFFr3u",
        "outputId": "c22260aa-d4d9-4986-f930-70a25dc39f3f"
      },
      "execution_count": null,
      "outputs": [
        {
          "output_type": "stream",
          "name": "stdout",
          "text": [
            "Updating to 24\n",
            "Tonnie Pato\n"
          ]
        }
      ]
    },
    {
      "cell_type": "code",
      "source": [
        "class Student:\n",
        "  Total = 100\n",
        "\n",
        "  def __init__(self,marks):\n",
        "    self.marks = marks\n",
        "    print('Initialized........')\n",
        "\n",
        "  def findLoss(self):\n",
        "    return self.Total - self.marks\n",
        "\n",
        "  def findPercentage(self):\n",
        "    return self.marks/self.Total*100\n",
        "\n",
        "P = Student(marks=74.2)\n",
        "print('Total Marks: ',P.Total)\n",
        "print('Lossed Marks: ',P.findLoss())\n",
        "print('Percentage is: ',P.findPercentage())"
      ],
      "metadata": {
        "colab": {
          "base_uri": "https://localhost:8080/"
        },
        "id": "qDAo5wMfHQ8X",
        "outputId": "74449ebf-3b3c-4928-b34e-b9205b1c1dcf"
      },
      "execution_count": 2,
      "outputs": [
        {
          "output_type": "stream",
          "name": "stdout",
          "text": [
            "Initialized........\n",
            "Total Marks:  100\n",
            "Lossed Marks:  25.799999999999997\n",
            "Percentage is:  74.2\n"
          ]
        }
      ]
    },
    {
      "cell_type": "code",
      "source": [
        "class Student:\n",
        "  Total = 100\n",
        "\n",
        "  def __init__(self,name,marks,gender):\n",
        "    self.name = name\n",
        "    self.marks = marks\n",
        "    self.gender = gender\n",
        "    print('Initialized........')\n",
        "\n",
        "  def __len__(self):\n",
        "    return self.marks\n",
        "\n",
        "  def __str__(self):\n",
        "    return \"Name: %s | Marks:  %s | Gender: %s\" %(self.name,self.marks,self.gender)\n",
        "\n",
        "  def __del__(self):\n",
        "    print(\"Student Database is Delected\")\n",
        "\n",
        "P = Student('Patience',85,'Famale')\n",
        "print(P)\n",
        "print('Marks: ',len(P)) \n",
        "# print('Gender: ')"
      ],
      "metadata": {
        "colab": {
          "base_uri": "https://localhost:8080/"
        },
        "id": "PnJyfB1sUB4T",
        "outputId": "80e25b30-6fbe-4472-b5f1-8e943688b859"
      },
      "execution_count": 2,
      "outputs": [
        {
          "output_type": "stream",
          "name": "stdout",
          "text": [
            "Initialized........\n",
            "Name: Patience | Marks:  85 | Gender: Famale\n",
            "Marks:  85\n",
            "Student Database is Delected\n"
          ]
        }
      ]
    },
    {
      "cell_type": "markdown",
      "source": [
        "inheritance"
      ],
      "metadata": {
        "id": "7L2qHk3TCBdJ"
      }
    },
    {
      "cell_type": "code",
      "source": [
        "class Bazzale:\n",
        "  def __init__(self):\n",
        "    print('WElcome! to the Bazzale Family ')\n",
        "  def name(self):\n",
        "    print(\"Patience\")\n",
        "  def age(self):\n",
        "    print('30')\n",
        "\n",
        "class Patience(Bazzale):\n",
        "  def __init__(self):\n",
        "    Bazzale.__init__(self)\n",
        "    print('Am Bazzale Patience')\n",
        "\n",
        "  def name(self):\n",
        "    print('Bazzale Patience')\n",
        "  def child(self):\n",
        "    print('first Daughter of the family')\n",
        "    \n"
      ],
      "metadata": {
        "id": "rmsJ-0mvCGZY"
      },
      "execution_count": 13,
      "outputs": []
    },
    {
      "cell_type": "code",
      "source": [
        "t = Patience()"
      ],
      "metadata": {
        "colab": {
          "base_uri": "https://localhost:8080/"
        },
        "id": "zsi62MYMD7fV",
        "outputId": "d0eed17d-9507-4770-a8ac-6cad64d358db"
      },
      "execution_count": 7,
      "outputs": [
        {
          "output_type": "stream",
          "name": "stdout",
          "text": [
            "the Bazzale Family \n",
            "Am Bazzale Patience\n"
          ]
        }
      ]
    },
    {
      "cell_type": "code",
      "source": [
        "t=Bazzale()"
      ],
      "metadata": {
        "colab": {
          "base_uri": "https://localhost:8080/"
        },
        "id": "Trk5Muc2FNeA",
        "outputId": "607d9eec-0567-46a7-deb8-53df685b88cc"
      },
      "execution_count": 14,
      "outputs": [
        {
          "output_type": "stream",
          "name": "stdout",
          "text": [
            "WElcome! to the Bazzale Family \n"
          ]
        }
      ]
    },
    {
      "cell_type": "code",
      "source": [
        "\n",
        "t.age()"
      ],
      "metadata": {
        "colab": {
          "base_uri": "https://localhost:8080/"
        },
        "id": "-lJrfYUIGhYp",
        "outputId": "0b8e00c6-5fe4-4b6f-9ff1-a9c1fe8931b2"
      },
      "execution_count": 15,
      "outputs": [
        {
          "output_type": "stream",
          "name": "stdout",
          "text": [
            "30\n"
          ]
        }
      ]
    },
    {
      "cell_type": "code",
      "source": [
        "k = Patience()"
      ],
      "metadata": {
        "colab": {
          "base_uri": "https://localhost:8080/"
        },
        "id": "6-ew3CDoIEFW",
        "outputId": "da42c565-b1a3-466b-d9b2-8b3b9b533075"
      },
      "execution_count": 16,
      "outputs": [
        {
          "output_type": "stream",
          "name": "stdout",
          "text": [
            "WElcome! to the Bazzale Family \n",
            "Am Bazzale Patience\n"
          ]
        }
      ]
    },
    {
      "cell_type": "code",
      "source": [
        "k.child()"
      ],
      "metadata": {
        "colab": {
          "base_uri": "https://localhost:8080/"
        },
        "id": "1d3blMLtIIg_",
        "outputId": "777fc723-73c5-4082-d26a-5f517580b463"
      },
      "execution_count": 17,
      "outputs": [
        {
          "output_type": "stream",
          "name": "stdout",
          "text": [
            "first Daughter of the family\n"
          ]
        }
      ]
    },
    {
      "cell_type": "code",
      "source": [
        "k.age()"
      ],
      "metadata": {
        "colab": {
          "base_uri": "https://localhost:8080/"
        },
        "id": "n7hfoafyIsnE",
        "outputId": "513ced0c-fd2a-4099-a5ce-d34430b92770"
      },
      "execution_count": 19,
      "outputs": [
        {
          "output_type": "stream",
          "name": "stdout",
          "text": [
            "30\n"
          ]
        }
      ]
    },
    {
      "cell_type": "code",
      "source": [
        "k.name()"
      ],
      "metadata": {
        "colab": {
          "base_uri": "https://localhost:8080/"
        },
        "id": "j2TUXEs1I6VD",
        "outputId": "bdb8b75f-f5e5-4e53-d4c2-b26c0d49777e"
      },
      "execution_count": 20,
      "outputs": [
        {
          "output_type": "stream",
          "name": "stdout",
          "text": [
            "Bazzale Patience\n"
          ]
        }
      ]
    },
    {
      "cell_type": "code",
      "source": [
        "t.name()"
      ],
      "metadata": {
        "colab": {
          "base_uri": "https://localhost:8080/"
        },
        "id": "gprGocoUJB4N",
        "outputId": "ceccf4e5-9bba-49ef-81d8-6e82242b46a2"
      },
      "execution_count": 21,
      "outputs": [
        {
          "output_type": "stream",
          "name": "stdout",
          "text": [
            "Patience\n"
          ]
        }
      ]
    },
    {
      "cell_type": "code",
      "source": [
        "k.age()"
      ],
      "metadata": {
        "colab": {
          "base_uri": "https://localhost:8080/"
        },
        "id": "c1ki_Lu5JX3I",
        "outputId": "c128b240-5bcf-4101-8392-e4660822bb41"
      },
      "execution_count": 22,
      "outputs": [
        {
          "output_type": "stream",
          "name": "stdout",
          "text": [
            "30\n"
          ]
        }
      ]
    },
    {
      "cell_type": "markdown",
      "source": [
        "Polymorphism"
      ],
      "metadata": {
        "id": "3_lSY3-pJbCU"
      }
    },
    {
      "cell_type": "code",
      "source": [
        "class Patience:\n",
        "  def __init__(self,name):\n",
        "      self.name = name\n",
        "  def type(self):\n",
        "    return \"i love you\"\n",
        "  \n",
        "class tonny:\n",
        "  def __init__(self,name):\n",
        "    self.name = name\n",
        "  def type(self):\n",
        "    return \"i love you too\"\n",
        "    \n",
        "person1 = Patience('Tonny') #ame: as argument\n",
        "person2 = tonny('Patie')"
      ],
      "metadata": {
        "id": "nEtzcxDGJdvm"
      },
      "execution_count": 28,
      "outputs": []
    },
    {
      "cell_type": "code",
      "source": [
        "#returnong unique results of object which have the same type\n",
        "print(person1.type())\n",
        "print(person2.type())"
      ],
      "metadata": {
        "colab": {
          "base_uri": "https://localhost:8080/"
        },
        "id": "dCHtl8MeY_Yy",
        "outputId": "8ceda9ff-7a0c-4296-f813-175397c4e3e2"
      },
      "execution_count": 31,
      "outputs": [
        {
          "output_type": "stream",
          "name": "stdout",
          "text": [
            "i love you\n",
            "i love you too\n"
          ]
        }
      ]
    },
    {
      "cell_type": "code",
      "source": [
        "for i in [person1,person2]:\n",
        "  print(i.name)\n",
        "  print(i.type())\n",
        "  print('******')"
      ],
      "metadata": {
        "colab": {
          "base_uri": "https://localhost:8080/"
        },
        "id": "kF7tmAZEZYN1",
        "outputId": "49bb77c1-15c4-494c-d882-2c9ef940f6c5"
      },
      "execution_count": 33,
      "outputs": [
        {
          "output_type": "stream",
          "name": "stdout",
          "text": [
            "Tonny\n",
            "i love you\n",
            "******\n",
            "Patie\n",
            "i love you too\n",
            "******\n"
          ]
        }
      ]
    }
  ]
}