{
  "cells": [
    {
      "cell_type": "markdown",
      "metadata": {
        "id": "view-in-github",
        "colab_type": "text"
      },
      "source": [
        "<a href=\"https://colab.research.google.com/github/kisomose/pythonBootCamp/blob/main/pythonBasicAndFunction.ipynb\" target=\"_parent\"><img src=\"https://colab.research.google.com/assets/colab-badge.svg\" alt=\"Open In Colab\"/></a>"
      ]
    },
    {
      "cell_type": "code",
      "execution_count": null,
      "metadata": {
        "colab": {
          "base_uri": "https://localhost:8080/"
        },
        "id": "Y30toBYGvQyW",
        "outputId": "81dfd043-0bf6-425e-89a2-c33973f6111d"
      },
      "outputs": [
        {
          "name": "stdout",
          "output_type": "stream",
          "text": [
            "enter the value of a:  34\n",
            "enter the value of b:  6\n",
            "Sum: 40, diff: 28,Mult: 204, Div: 5.666666666666667, Mod: 4\n"
          ]
        }
      ],
      "source": [
        "a = int(input(\"enter the value of a:  \"))\n",
        "b =  int(input(\"enter the value of b:  \"))\n",
        "add =a+b\n",
        "sub=a-b\n",
        "mult = a*b\n",
        "div= a/b\n",
        "mod = a%b\n",
        "print(\"Sum: {0}, diff: {1},Mult: {2}, Div: {3}, Mod: {4}\".format(add,sub,mult,div,mod)) #printing using the formate"
      ]
    },
    {
      "cell_type": "markdown",
      "metadata": {
        "id": "_fA5khHP6Fdi"
      },
      "source": [
        "a=3\n",
        "b=5\n",
        "power = a**b\n",
        "print(\"power: \",power)"
      ]
    },
    {
      "cell_type": "code",
      "execution_count": null,
      "metadata": {
        "colab": {
          "base_uri": "https://localhost:8080/"
        },
        "id": "xehZdd5H6geY",
        "outputId": "0f23b791-7b63-45c7-8938-f4252d43a94a"
      },
      "outputs": [
        {
          "name": "stdout",
          "output_type": "stream",
          "text": [
            " uoy evol i\n",
            "I LOVE YOU \n",
            "['i', 'love', 'you']\n",
            "i love you \n"
          ]
        }
      ],
      "source": [
        "a=\"i love you \"\n",
        "print(a[::-1])\n",
        "print(a.upper())\n",
        "print (a.split())\n",
        "print(a.lower())"
      ]
    },
    {
      "cell_type": "markdown",
      "metadata": {
        "id": "XehwMZRj9gmv"
      },
      "source": [
        "LIST"
      ]
    },
    {
      "cell_type": "code",
      "execution_count": null,
      "metadata": {
        "colab": {
          "base_uri": "https://localhost:8080/"
        },
        "id": "j3kLHNPN9htj",
        "outputId": "00ef1438-5f96-4257-d4f5-5b791bf6d07d"
      },
      "outputs": [
        {
          "name": "stdout",
          "output_type": "stream",
          "text": [
            "[1, 2, 3, 4, 5, 6] ['love', 18, 23]\n",
            "[1, 2, 3, 4, 5, 6, 'love', 18, 23]\n",
            "[6, 5, 4, 3, 2, 1]\n"
          ]
        }
      ],
      "source": [
        "p = [1,2,3,4,5,6]\n",
        "t =[\"love\",18,23]\n",
        "print(p,t)\n",
        "print(p+t)\n",
        "print(p[::-1])"
      ]
    },
    {
      "cell_type": "code",
      "execution_count": null,
      "metadata": {
        "colab": {
          "base_uri": "https://localhost:8080/"
        },
        "id": "9JeTnJAJ-Ei0",
        "outputId": "4ef6b7cc-66a1-4428-eb80-9be6a715fc84"
      },
      "outputs": [
        {
          "name": "stdout",
          "output_type": "stream",
          "text": [
            "[1, 2, 3, 4, 5, 6, 'forever']\n"
          ]
        }
      ],
      "source": [
        "p.append(\"forever\")\n",
        "print(p)"
      ]
    },
    {
      "cell_type": "code",
      "execution_count": null,
      "metadata": {
        "colab": {
          "base_uri": "https://localhost:8080/"
        },
        "id": "cLMd4lLc-QDo",
        "outputId": "2d56daec-0140-4a48-da89-9bf976707ae8"
      },
      "outputs": [
        {
          "data": {
            "text/plain": [
              "[3, 2, 8, 1, 6, 7, 4, 5]"
            ]
          },
          "execution_count": 29,
          "metadata": {},
          "output_type": "execute_result"
        }
      ],
      "source": [
        "k = [1,2,3,4,5,6,7,8]\n",
        "p,k,t\n",
        "from random import shuffle\n",
        "shuffle(k)\n",
        "k"
      ]
    },
    {
      "cell_type": "markdown",
      "metadata": {
        "id": "PFHtz7JsGMnN"
      },
      "source": [
        "set"
      ]
    },
    {
      "cell_type": "code",
      "execution_count": null,
      "metadata": {
        "colab": {
          "base_uri": "https://localhost:8080/"
        },
        "id": "6Et2p9tKGOTh",
        "outputId": "8742815f-339c-4681-9e2e-25c67669fee4"
      },
      "outputs": [
        {
          "data": {
            "text/plain": [
              "{2}"
            ]
          },
          "execution_count": 34,
          "metadata": {},
          "output_type": "execute_result"
        }
      ],
      "source": [
        "a= set()\n",
        "a.add(2)\n",
        "a\n",
        "#set(p)"
      ]
    },
    {
      "cell_type": "code",
      "execution_count": null,
      "metadata": {
        "colab": {
          "base_uri": "https://localhost:8080/"
        },
        "id": "DlS7YnVzG9ek",
        "outputId": "8c49bb33-4089-42ba-e82e-98822048b9ba"
      },
      "outputs": [
        {
          "name": "stdout",
          "output_type": "stream",
          "text": [
            "True\n"
          ]
        },
        {
          "data": {
            "text/plain": [
              "True"
            ]
          },
          "execution_count": 39,
          "metadata": {},
          "output_type": "execute_result"
        }
      ],
      "source": [
        "z=len(p)\n",
        "g = len(t)\n",
        "\n",
        "print (z>=g)\n",
        "z>g"
      ]
    },
    {
      "cell_type": "code",
      "execution_count": null,
      "metadata": {
        "colab": {
          "base_uri": "https://localhost:8080/"
        },
        "id": "9AGkkcBtHp7F",
        "outputId": "64ae4659-c9fe-49c4-b2b0-007338ecbf5d"
      },
      "outputs": [
        {
          "name": "stdout",
          "output_type": "stream",
          "text": [
            "Is an even number\n",
            "a is odd number\n",
            "Is an even number\n",
            "a is odd number\n",
            "Is an even number\n",
            "a is odd number\n",
            "Is an even number\n",
            "a is odd number\n",
            "a is odd number\n",
            "Is an even number\n"
          ]
        }
      ],
      "source": [
        "a=[12,3,4,5,6,7,8,9,9,0]\n",
        "for i in a:\n",
        "  if i%2==0:\n",
        "    print(\"Is an even number\")\n",
        "  else:\n",
        "    print(\"a is odd number\")"
      ]
    },
    {
      "cell_type": "markdown",
      "metadata": {
        "id": "-Cls6mPm_69g"
      },
      "source": [
        "function"
      ]
    },
    {
      "cell_type": "code",
      "execution_count": null,
      "metadata": {
        "id": "Bfj8SRnh_5QX"
      },
      "outputs": [],
      "source": [
        "def welcome(a):\n",
        "  print(\"hello {0}, bazaale Welcome to our home\".format(a))"
      ]
    },
    {
      "cell_type": "code",
      "execution_count": null,
      "metadata": {
        "colab": {
          "base_uri": "https://localhost:8080/"
        },
        "id": "CF5cP5BTASYh",
        "outputId": "2f33b25c-6374-4d99-b33e-a7b94e67cbbd"
      },
      "outputs": [
        {
          "name": "stdout",
          "output_type": "stream",
          "text": [
            "hello patie, bazaale Welcome to our home\n"
          ]
        }
      ],
      "source": [
        "welcome(\"patie\")"
      ]
    },
    {
      "cell_type": "code",
      "execution_count": null,
      "metadata": {
        "id": "yml9Sc6IBogd"
      },
      "outputs": [],
      "source": [
        "def add(a,b):\n",
        "  add = a+b\n",
        "  return add"
      ]
    },
    {
      "cell_type": "markdown",
      "source": [
        "lambda - to make functions without using def"
      ],
      "metadata": {
        "id": "bWiRDUxCOKxn"
      }
    },
    {
      "cell_type": "code",
      "source": [
        "def squ(num2):\n",
        "  return num2*2\n",
        "\n",
        "squ(3)"
      ],
      "metadata": {
        "colab": {
          "base_uri": "https://localhost:8080/"
        },
        "id": "tUUSBHgfOKBF",
        "outputId": "18cb723b-3962-492b-bf90-638f1047cadf"
      },
      "execution_count": null,
      "outputs": [
        {
          "output_type": "execute_result",
          "data": {
            "text/plain": [
              "6"
            ]
          },
          "metadata": {},
          "execution_count": 58
        }
      ]
    },
    {
      "cell_type": "code",
      "source": [
        "squ2 = lambda num3:num3*2\n",
        "squ2(4)"
      ],
      "metadata": {
        "colab": {
          "base_uri": "https://localhost:8080/"
        },
        "id": "IZSbWJZTOeig",
        "outputId": "f14e9496-43ed-4b86-95e9-a25d0f975957"
      },
      "execution_count": null,
      "outputs": [
        {
          "output_type": "execute_result",
          "data": {
            "text/plain": [
              "8"
            ]
          },
          "metadata": {},
          "execution_count": 59
        }
      ]
    },
    {
      "cell_type": "code",
      "source": [
        "def check(a):\n",
        "    b = len(a)\n",
        "    c=0\n",
        "    for i in range (0, b):\n",
        "        if a[i] > 1:\n",
        "            c=0\n",
        "            for j in range (2, int(a[i]/2)+2):\n",
        "                if (a[i] % j) == 0:\n",
        "                    c=1\n",
        "                    break\n",
        "            if (c == 0) or (a[i]==2):\n",
        "                print(a[i], \"is a prime\")\n",
        "            else:\n",
        "                print(a[i], \"not a prime\")\n",
        "        else:\n",
        "            print(a[i], \"is less than 2\")"
      ],
      "metadata": {
        "id": "Edsmvh8IPX2p"
      },
      "execution_count": null,
      "outputs": []
    },
    {
      "cell_type": "code",
      "execution_count": null,
      "metadata": {
        "colab": {
          "base_uri": "https://localhost:8080/"
        },
        "id": "Di0J6BmUB597",
        "outputId": "10d31705-819a-44ea-ec38-cd059b527937"
      },
      "outputs": [
        {
          "data": {
            "text/plain": [
              "108"
            ]
          },
          "execution_count": 11,
          "metadata": {},
          "output_type": "execute_result"
        }
      ],
      "source": [
        "add(85,23)"
      ]
    },
    {
      "cell_type": "code",
      "execution_count": null,
      "metadata": {
        "colab": {
          "background_save": true
        },
        "id": "Isnji-sfCWqq"
      },
      "outputs": [],
      "source": [
        "def check(numbers):\n",
        "  primeNumer = []\n",
        "  for number in numbers:\n",
        "  if number>1:\n",
        "    for i in range(2, int(number/2)+1):\n",
        "      if(number %1)==0:\n",
        "        print(number, \"is a prime number\")\n",
        "        break\n",
        "      else:\n",
        "        print (number, \"is a prime munber\")\n",
        "        primeNumber.append(number)\n",
        "    else:\n",
        "      pass\n",
        "  return primeNumber\n"
      ]
    },
    {
      "cell_type": "code",
      "execution_count": null,
      "metadata": {
        "id": "EfWZr3lHDkJQ"
      },
      "outputs": [],
      "source": [
        "def add(a,s,d):\n",
        "  R=a+s+d\n",
        "  return R\n",
        "  add(1,3,4)"
      ]
    },
    {
      "cell_type": "code",
      "source": [
        "def cube(num):\n",
        "  return num**3\n",
        "  cube(6)"
      ],
      "metadata": {
        "id": "ejvXUrvsI9fF"
      },
      "execution_count": null,
      "outputs": []
    },
    {
      "cell_type": "markdown",
      "source": [
        "*args and **kwages"
      ],
      "metadata": {
        "id": "d8WY7XihJjsZ"
      }
    },
    {
      "cell_type": "code",
      "execution_count": null,
      "metadata": {
        "id": "5FCy0TJzDDqW"
      },
      "outputs": [],
      "source": [
        "def cubefn(*argg):\n",
        "  return sum(argg)\n",
        "\n",
        "  r= cubefn(12,43,5)\n",
        "\n",
        "  print(r)"
      ]
    },
    {
      "cell_type": "code",
      "source": [
        "def func(**kwargs):\n",
        "  if 'name' in kwargs:\n",
        "    print(\"mu names is {0}\".format(kwargs['name']))\n",
        "  if 'age' in kwargs:\n",
        "    print(\"My age is updating to {0}\".format(kwargs['age']))\n",
        "  else:\n",
        "    print(\"no key Found\")\n",
        "\n",
        "func(name='Patience', age = 19)"
      ],
      "metadata": {
        "colab": {
          "base_uri": "https://localhost:8080/"
        },
        "id": "FSMjEGswKBIu",
        "outputId": "6f8081cb-7253-46b5-e8c1-e277cf2b1a60"
      },
      "execution_count": null,
      "outputs": [
        {
          "output_type": "stream",
          "name": "stdout",
          "text": [
            "mu names is Patience\n",
            "My age is updating to 19\n"
          ]
        }
      ]
    },
    {
      "cell_type": "code",
      "source": [],
      "metadata": {
        "id": "Ggy6X5TAQaLT"
      },
      "execution_count": null,
      "outputs": []
    }
  ],
  "metadata": {
    "colab": {
      "provenance": [],
      "authorship_tag": "ABX9TyPOFxQdn7IEIeESeVYT4zoj",
      "include_colab_link": true
    },
    "kernelspec": {
      "display_name": "Python 3",
      "name": "python3"
    },
    "language_info": {
      "name": "python"
    }
  },
  "nbformat": 4,
  "nbformat_minor": 0
}