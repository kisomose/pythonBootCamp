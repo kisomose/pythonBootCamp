{
  "nbformat": 4,
  "nbformat_minor": 0,
  "metadata": {
    "colab": {
      "provenance": [],
      "collapsed_sections": [],
      "authorship_tag": "ABX9TyOfG7WJpI+ZrB7ZOTp91wZm",
      "include_colab_link": true
    },
    "kernelspec": {
      "name": "python3",
      "display_name": "Python 3"
    },
    "language_info": {
      "name": "python"
    }
  },
  "cells": [
    {
      "cell_type": "markdown",
      "metadata": {
        "id": "view-in-github",
        "colab_type": "text"
      },
      "source": [
        "<a href=\"https://colab.research.google.com/github/kisomose/pythonBootCamp/blob/main/decorator_funtion_in_%26-Buit%20in%20fn%20ofpython.ipynb\" target=\"_parent\"><img src=\"https://colab.research.google.com/assets/colab-badge.svg\" alt=\"Open In Colab\"/></a>"
      ]
    },
    {
      "cell_type": "markdown",
      "source": [
        "python Decorators - function that modifies another function of another function/class"
      ],
      "metadata": {
        "id": "15_OlevC8Yab"
      }
    },
    {
      "cell_type": "code",
      "source": [
        "'''''@decName\n",
        "def func():\n",
        "  print(\"hey\")\n",
        "\n",
        "EQUAL TO\n",
        "\n",
        "def func():\n",
        "  print('HEY')\n",
        "\n",
        "  func = decName(func)''''''"
      ],
      "metadata": {
        "id": "vv5rFGRO8t0H"
      },
      "execution_count": null,
      "outputs": []
    },
    {
      "cell_type": "markdown",
      "source": [
        "FUNCTION AS OBJECT"
      ],
      "metadata": {
        "id": "mk0OYZeR9k5i"
      }
    },
    {
      "cell_type": "code",
      "source": [
        "def welcome(p):\n",
        "  print('Hello {0}, Welcome to Python'.format(p))"
      ],
      "metadata": {
        "id": "Jvf8Gbcm9m81"
      },
      "execution_count": 7,
      "outputs": []
    },
    {
      "cell_type": "code",
      "source": [
        "p = welcome\n",
        "p('Tonny')"
      ],
      "metadata": {
        "colab": {
          "base_uri": "https://localhost:8080/"
        },
        "id": "1HJdLu2J-dAB",
        "outputId": "9e3f452c-05e3-4d52-a803-4cab12a46d36"
      },
      "execution_count": 8,
      "outputs": [
        {
          "output_type": "stream",
          "name": "stdout",
          "text": [
            "Hello Tonny, Welcome to Python\n"
          ]
        }
      ]
    },
    {
      "cell_type": "code",
      "source": [],
      "metadata": {
        "id": "-AzK_W9__CIH"
      },
      "execution_count": null,
      "outputs": []
    },
    {
      "cell_type": "markdown",
      "source": [
        "FUNCTION IN VARIABLE"
      ],
      "metadata": {
        "id": "DlglVOUX9nBi"
      }
    },
    {
      "cell_type": "code",
      "source": [
        "def lowerCase(text):\n",
        "  return text.lower()\n",
        "\n",
        "def upperCase(text):\n",
        "  return text.upper()\n",
        "\n",
        "\n",
        "def p(welcome):\n",
        "  message = welcome('Hello all, welcome to Python BootCamp')\n",
        "  print(message)\n",
        "p(lowerCase)\n",
        "p(upperCase)\n"
      ],
      "metadata": {
        "colab": {
          "base_uri": "https://localhost:8080/"
        },
        "id": "TkgoRrw8_HzD",
        "outputId": "3bd43aa8-1e39-4037-8cee-6abbd55e4f44"
      },
      "execution_count": 15,
      "outputs": [
        {
          "output_type": "stream",
          "name": "stdout",
          "text": [
            "hello all, welcome to python bootcamp\n",
            "HELLO ALL, WELCOME TO PYTHON BOOTCAMP\n"
          ]
        }
      ]
    },
    {
      "cell_type": "markdown",
      "source": [
        "RETURNING FUCNTION FROM ANOTHER FUNCTION"
      ],
      "metadata": {
        "id": "-xAp8vyQAxvH"
      }
    },
    {
      "cell_type": "code",
      "source": [
        "def addMain(p):\n",
        "  print(p)\n",
        "  def addSub(t):\n",
        "    print(p,t)\n",
        "    return p+t\n",
        "  return addSub\n",
        "\n",
        "addition = addMain(100)\n",
        "print(addition(75))"
      ],
      "metadata": {
        "colab": {
          "base_uri": "https://localhost:8080/"
        },
        "id": "KtICyoeXA3Le",
        "outputId": "8f953a5a-7da1-4f1c-d53c-c67bdcb7def2"
      },
      "execution_count": 17,
      "outputs": [
        {
          "output_type": "stream",
          "name": "stdout",
          "text": [
            "100\n",
            "100 75\n",
            "175\n"
          ]
        }
      ]
    },
    {
      "cell_type": "markdown",
      "source": [
        "DECORATORS in Action"
      ],
      "metadata": {
        "id": "TGW5RUP4CKRA"
      }
    },
    {
      "cell_type": "code",
      "source": [
        "def decratorFunc (welcome): #2. decorator\n",
        "  def p(): #3. can acess the outer local function like this case 'welcome\n",
        "    print('start')\n",
        "    welcome() #4. callig actual fn.\n",
        "    print('End')\n",
        "  return p\n",
        "\n",
        "def subFunc():\n",
        "  print('Sub fn.')\n",
        "\n",
        "subFunc = decratorFunc(subFunc) #1. subfunc inside the decorator to control the behavior\n",
        "subFunc()"
      ],
      "metadata": {
        "colab": {
          "base_uri": "https://localhost:8080/"
        },
        "id": "CFdYjI4nCO5z",
        "outputId": "80bdd08a-766d-4811-df11-8e00d46fac7e"
      },
      "execution_count": 20,
      "outputs": [
        {
          "output_type": "stream",
          "name": "stdout",
          "text": [
            "start\n",
            "Sub fn.\n",
            "End\n"
          ]
        }
      ]
    },
    {
      "cell_type": "markdown",
      "source": [
        "python Generators - to generate as we go alog, instead of holding everthing in memory and generator funcotons wll automaticall susupend and resume their execution and state around the last point of value generation|n. this feature is knownas state suspension"
      ],
      "metadata": {
        "id": "SWsLVIy0JAXL"
      }
    },
    {
      "cell_type": "code",
      "source": [
        "def square(n):\n",
        "  for i in range (n):\n",
        "    yield i**2"
      ],
      "metadata": {
        "id": "jFl34ZNZJs-D"
      },
      "execution_count": 40,
      "outputs": []
    },
    {
      "cell_type": "code",
      "source": [
        "for n in square(10):\n",
        "  print(n)"
      ],
      "metadata": {
        "colab": {
          "base_uri": "https://localhost:8080/"
        },
        "id": "9UeHg3X3KjgL",
        "outputId": "8b60fdfe-637d-4adb-ee97-14a98b0abb5b"
      },
      "execution_count": 41,
      "outputs": [
        {
          "output_type": "stream",
          "name": "stdout",
          "text": [
            "0\n",
            "1\n",
            "4\n",
            "9\n",
            "16\n",
            "25\n",
            "36\n",
            "49\n",
            "64\n",
            "81\n"
          ]
        }
      ]
    },
    {
      "cell_type": "code",
      "source": [
        "def square():\n",
        "  for i in range (n):\n",
        "    yield i**2"
      ],
      "metadata": {
        "id": "1a_QRGm-L2Ft"
      },
      "execution_count": 42,
      "outputs": []
    },
    {
      "cell_type": "code",
      "source": [
        "t=square()\n"
      ],
      "metadata": {
        "id": "_GP6yO9xLDwi"
      },
      "execution_count": 43,
      "outputs": []
    },
    {
      "cell_type": "code",
      "source": [
        "print(next(t)) #After yeilds all the values  next() caused a Stop"
      ],
      "metadata": {
        "colab": {
          "base_uri": "https://localhost:8080/"
        },
        "id": "fRt6CBCELgn8",
        "outputId": "86260ac2-58b3-4e38-d7be-1b8d9906b2fa"
      },
      "execution_count": 37,
      "outputs": [
        {
          "output_type": "stream",
          "name": "stdout",
          "text": [
            "36\n"
          ]
        }
      ]
    },
    {
      "cell_type": "markdown",
      "source": [
        "Built in fn. - iter"
      ],
      "metadata": {
        "id": "u9vvnqY7K4Np"
      }
    },
    {
      "cell_type": "code",
      "source": [
        "p = input('what you love you')\n",
        "for i in p:\n",
        "  print(i)\n",
        "  "
      ],
      "metadata": {
        "colab": {
          "base_uri": "https://localhost:8080/"
        },
        "id": "56e_uJsDJ6-z",
        "outputId": "4acdc754-c64a-4034-edab-85353e68a4a2"
      },
      "execution_count": 50,
      "outputs": [
        {
          "output_type": "stream",
          "name": "stdout",
          "text": [
            "what you love youhome\n",
            "h\n",
            "o\n",
            "m\n",
            "e\n"
          ]
        }
      ]
    }
  ]
}